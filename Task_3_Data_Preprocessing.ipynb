{
  "nbformat": 4,
  "nbformat_minor": 0,
  "metadata": {
    "colab": {
      "provenance": []
    },
    "kernelspec": {
      "name": "python3",
      "display_name": "Python 3"
    },
    "language_info": {
      "name": "python"
    }
  },
  "cells": [
    {
      "cell_type": "markdown",
      "source": [
        "Import library"
      ],
      "metadata": {
        "id": "AH55P4s7ecXE"
      }
    },
    {
      "cell_type": "code",
      "execution_count": 1,
      "metadata": {
        "id": "OYTi5daVdmzC"
      },
      "outputs": [],
      "source": [
        "import pandas as pd\n",
        "import numpy as np\n",
        "from sklearn.preprocessing import LabelEncoder, StandardScaler\n",
        "from google.colab import files"
      ]
    },
    {
      "cell_type": "markdown",
      "source": [
        "Load the dataset"
      ],
      "metadata": {
        "id": "OHW5ZGA1egg8"
      }
    },
    {
      "cell_type": "code",
      "source": [
        "df = pd.read_csv(\"sales_financial.csv\")\n"
      ],
      "metadata": {
        "id": "nqDfzb1zd8sS"
      },
      "execution_count": 4,
      "outputs": []
    },
    {
      "cell_type": "code",
      "source": [
        "df.head()"
      ],
      "metadata": {
        "colab": {
          "base_uri": "https://localhost:8080/",
          "height": 226
        },
        "id": "ToYHRbc4eCMo",
        "outputId": "2ad20fe6-a035-4043-b4ef-266f3b9c2d7b"
      },
      "execution_count": 5,
      "outputs": [
        {
          "output_type": "execute_result",
          "data": {
            "text/plain": [
              "    order_id  order_date customer_id product_id product_category   region  \\\n",
              "0  ORD100000  31-01-2025    CUST1329    PROD290           Beauty  Central   \n",
              "1  ORD100001  10-05-2024    CUST1774    PROD329           Beauty    North   \n",
              "2  ORD100002  18-07-2025    CUST1672    PROD362             Toys    North   \n",
              "3  ORD100003  04-02-2025    CUST1150    PROD219           Sports    South   \n",
              "4  ORD100004  31-12-2024    CUST1084    PROD209           Beauty    South   \n",
              "\n",
              "     channel salesperson  quantity  unit_price  discount  unit_cost  \\\n",
              "0  Wholesale        SP_2         1     1922.47      0.00    1219.16   \n",
              "1    Partner       SP_18         3      782.02      0.00     453.68   \n",
              "2     Retail       SP_19         2      774.10      0.15     630.15   \n",
              "3  Wholesale        SP_8         3      684.07      0.00     554.21   \n",
              "4     Retail        SP_3         3     1085.11      0.00     711.46   \n",
              "\n",
              "   sales_amount  total_cost   profit     tax payment_type  is_returned  \\\n",
              "0       1922.47     1219.16   703.31  346.04       Wallet            0   \n",
              "1       2346.06     1361.04   985.02  117.30   Debit Card            0   \n",
              "2       1315.97     1260.30    55.67    0.00  Credit Card            0   \n",
              "3       2052.21     1662.63   389.58  369.40   Debit Card            0   \n",
              "4       3255.33     2134.38  1120.95  162.77       Wallet            0   \n",
              "\n",
              "   gross_revenue  margin_pct  \n",
              "0        2268.51      0.3658  \n",
              "1        2463.36      0.4199  \n",
              "2        1315.97      0.0423  \n",
              "3        2421.61      0.1898  \n",
              "4        3418.10      0.3443  "
            ],
            "text/html": [
              "\n",
              "  <div id=\"df-19d4a6cd-f6a3-4d97-a4c3-b65f6b013df1\" class=\"colab-df-container\">\n",
              "    <div>\n",
              "<style scoped>\n",
              "    .dataframe tbody tr th:only-of-type {\n",
              "        vertical-align: middle;\n",
              "    }\n",
              "\n",
              "    .dataframe tbody tr th {\n",
              "        vertical-align: top;\n",
              "    }\n",
              "\n",
              "    .dataframe thead th {\n",
              "        text-align: right;\n",
              "    }\n",
              "</style>\n",
              "<table border=\"1\" class=\"dataframe\">\n",
              "  <thead>\n",
              "    <tr style=\"text-align: right;\">\n",
              "      <th></th>\n",
              "      <th>order_id</th>\n",
              "      <th>order_date</th>\n",
              "      <th>customer_id</th>\n",
              "      <th>product_id</th>\n",
              "      <th>product_category</th>\n",
              "      <th>region</th>\n",
              "      <th>channel</th>\n",
              "      <th>salesperson</th>\n",
              "      <th>quantity</th>\n",
              "      <th>unit_price</th>\n",
              "      <th>discount</th>\n",
              "      <th>unit_cost</th>\n",
              "      <th>sales_amount</th>\n",
              "      <th>total_cost</th>\n",
              "      <th>profit</th>\n",
              "      <th>tax</th>\n",
              "      <th>payment_type</th>\n",
              "      <th>is_returned</th>\n",
              "      <th>gross_revenue</th>\n",
              "      <th>margin_pct</th>\n",
              "    </tr>\n",
              "  </thead>\n",
              "  <tbody>\n",
              "    <tr>\n",
              "      <th>0</th>\n",
              "      <td>ORD100000</td>\n",
              "      <td>31-01-2025</td>\n",
              "      <td>CUST1329</td>\n",
              "      <td>PROD290</td>\n",
              "      <td>Beauty</td>\n",
              "      <td>Central</td>\n",
              "      <td>Wholesale</td>\n",
              "      <td>SP_2</td>\n",
              "      <td>1</td>\n",
              "      <td>1922.47</td>\n",
              "      <td>0.00</td>\n",
              "      <td>1219.16</td>\n",
              "      <td>1922.47</td>\n",
              "      <td>1219.16</td>\n",
              "      <td>703.31</td>\n",
              "      <td>346.04</td>\n",
              "      <td>Wallet</td>\n",
              "      <td>0</td>\n",
              "      <td>2268.51</td>\n",
              "      <td>0.3658</td>\n",
              "    </tr>\n",
              "    <tr>\n",
              "      <th>1</th>\n",
              "      <td>ORD100001</td>\n",
              "      <td>10-05-2024</td>\n",
              "      <td>CUST1774</td>\n",
              "      <td>PROD329</td>\n",
              "      <td>Beauty</td>\n",
              "      <td>North</td>\n",
              "      <td>Partner</td>\n",
              "      <td>SP_18</td>\n",
              "      <td>3</td>\n",
              "      <td>782.02</td>\n",
              "      <td>0.00</td>\n",
              "      <td>453.68</td>\n",
              "      <td>2346.06</td>\n",
              "      <td>1361.04</td>\n",
              "      <td>985.02</td>\n",
              "      <td>117.30</td>\n",
              "      <td>Debit Card</td>\n",
              "      <td>0</td>\n",
              "      <td>2463.36</td>\n",
              "      <td>0.4199</td>\n",
              "    </tr>\n",
              "    <tr>\n",
              "      <th>2</th>\n",
              "      <td>ORD100002</td>\n",
              "      <td>18-07-2025</td>\n",
              "      <td>CUST1672</td>\n",
              "      <td>PROD362</td>\n",
              "      <td>Toys</td>\n",
              "      <td>North</td>\n",
              "      <td>Retail</td>\n",
              "      <td>SP_19</td>\n",
              "      <td>2</td>\n",
              "      <td>774.10</td>\n",
              "      <td>0.15</td>\n",
              "      <td>630.15</td>\n",
              "      <td>1315.97</td>\n",
              "      <td>1260.30</td>\n",
              "      <td>55.67</td>\n",
              "      <td>0.00</td>\n",
              "      <td>Credit Card</td>\n",
              "      <td>0</td>\n",
              "      <td>1315.97</td>\n",
              "      <td>0.0423</td>\n",
              "    </tr>\n",
              "    <tr>\n",
              "      <th>3</th>\n",
              "      <td>ORD100003</td>\n",
              "      <td>04-02-2025</td>\n",
              "      <td>CUST1150</td>\n",
              "      <td>PROD219</td>\n",
              "      <td>Sports</td>\n",
              "      <td>South</td>\n",
              "      <td>Wholesale</td>\n",
              "      <td>SP_8</td>\n",
              "      <td>3</td>\n",
              "      <td>684.07</td>\n",
              "      <td>0.00</td>\n",
              "      <td>554.21</td>\n",
              "      <td>2052.21</td>\n",
              "      <td>1662.63</td>\n",
              "      <td>389.58</td>\n",
              "      <td>369.40</td>\n",
              "      <td>Debit Card</td>\n",
              "      <td>0</td>\n",
              "      <td>2421.61</td>\n",
              "      <td>0.1898</td>\n",
              "    </tr>\n",
              "    <tr>\n",
              "      <th>4</th>\n",
              "      <td>ORD100004</td>\n",
              "      <td>31-12-2024</td>\n",
              "      <td>CUST1084</td>\n",
              "      <td>PROD209</td>\n",
              "      <td>Beauty</td>\n",
              "      <td>South</td>\n",
              "      <td>Retail</td>\n",
              "      <td>SP_3</td>\n",
              "      <td>3</td>\n",
              "      <td>1085.11</td>\n",
              "      <td>0.00</td>\n",
              "      <td>711.46</td>\n",
              "      <td>3255.33</td>\n",
              "      <td>2134.38</td>\n",
              "      <td>1120.95</td>\n",
              "      <td>162.77</td>\n",
              "      <td>Wallet</td>\n",
              "      <td>0</td>\n",
              "      <td>3418.10</td>\n",
              "      <td>0.3443</td>\n",
              "    </tr>\n",
              "  </tbody>\n",
              "</table>\n",
              "</div>\n",
              "    <div class=\"colab-df-buttons\">\n",
              "\n",
              "  <div class=\"colab-df-container\">\n",
              "    <button class=\"colab-df-convert\" onclick=\"convertToInteractive('df-19d4a6cd-f6a3-4d97-a4c3-b65f6b013df1')\"\n",
              "            title=\"Convert this dataframe to an interactive table.\"\n",
              "            style=\"display:none;\">\n",
              "\n",
              "  <svg xmlns=\"http://www.w3.org/2000/svg\" height=\"24px\" viewBox=\"0 -960 960 960\">\n",
              "    <path d=\"M120-120v-720h720v720H120Zm60-500h600v-160H180v160Zm220 220h160v-160H400v160Zm0 220h160v-160H400v160ZM180-400h160v-160H180v160Zm440 0h160v-160H620v160ZM180-180h160v-160H180v160Zm440 0h160v-160H620v160Z\"/>\n",
              "  </svg>\n",
              "    </button>\n",
              "\n",
              "  <style>\n",
              "    .colab-df-container {\n",
              "      display:flex;\n",
              "      gap: 12px;\n",
              "    }\n",
              "\n",
              "    .colab-df-convert {\n",
              "      background-color: #E8F0FE;\n",
              "      border: none;\n",
              "      border-radius: 50%;\n",
              "      cursor: pointer;\n",
              "      display: none;\n",
              "      fill: #1967D2;\n",
              "      height: 32px;\n",
              "      padding: 0 0 0 0;\n",
              "      width: 32px;\n",
              "    }\n",
              "\n",
              "    .colab-df-convert:hover {\n",
              "      background-color: #E2EBFA;\n",
              "      box-shadow: 0px 1px 2px rgba(60, 64, 67, 0.3), 0px 1px 3px 1px rgba(60, 64, 67, 0.15);\n",
              "      fill: #174EA6;\n",
              "    }\n",
              "\n",
              "    .colab-df-buttons div {\n",
              "      margin-bottom: 4px;\n",
              "    }\n",
              "\n",
              "    [theme=dark] .colab-df-convert {\n",
              "      background-color: #3B4455;\n",
              "      fill: #D2E3FC;\n",
              "    }\n",
              "\n",
              "    [theme=dark] .colab-df-convert:hover {\n",
              "      background-color: #434B5C;\n",
              "      box-shadow: 0px 1px 3px 1px rgba(0, 0, 0, 0.15);\n",
              "      filter: drop-shadow(0px 1px 2px rgba(0, 0, 0, 0.3));\n",
              "      fill: #FFFFFF;\n",
              "    }\n",
              "  </style>\n",
              "\n",
              "    <script>\n",
              "      const buttonEl =\n",
              "        document.querySelector('#df-19d4a6cd-f6a3-4d97-a4c3-b65f6b013df1 button.colab-df-convert');\n",
              "      buttonEl.style.display =\n",
              "        google.colab.kernel.accessAllowed ? 'block' : 'none';\n",
              "\n",
              "      async function convertToInteractive(key) {\n",
              "        const element = document.querySelector('#df-19d4a6cd-f6a3-4d97-a4c3-b65f6b013df1');\n",
              "        const dataTable =\n",
              "          await google.colab.kernel.invokeFunction('convertToInteractive',\n",
              "                                                    [key], {});\n",
              "        if (!dataTable) return;\n",
              "\n",
              "        const docLinkHtml = 'Like what you see? Visit the ' +\n",
              "          '<a target=\"_blank\" href=https://colab.research.google.com/notebooks/data_table.ipynb>data table notebook</a>'\n",
              "          + ' to learn more about interactive tables.';\n",
              "        element.innerHTML = '';\n",
              "        dataTable['output_type'] = 'display_data';\n",
              "        await google.colab.output.renderOutput(dataTable, element);\n",
              "        const docLink = document.createElement('div');\n",
              "        docLink.innerHTML = docLinkHtml;\n",
              "        element.appendChild(docLink);\n",
              "      }\n",
              "    </script>\n",
              "  </div>\n",
              "\n",
              "\n",
              "    <div id=\"df-aee1ef89-5f6c-4180-bba7-fe36290c8461\">\n",
              "      <button class=\"colab-df-quickchart\" onclick=\"quickchart('df-aee1ef89-5f6c-4180-bba7-fe36290c8461')\"\n",
              "                title=\"Suggest charts\"\n",
              "                style=\"display:none;\">\n",
              "\n",
              "<svg xmlns=\"http://www.w3.org/2000/svg\" height=\"24px\"viewBox=\"0 0 24 24\"\n",
              "     width=\"24px\">\n",
              "    <g>\n",
              "        <path d=\"M19 3H5c-1.1 0-2 .9-2 2v14c0 1.1.9 2 2 2h14c1.1 0 2-.9 2-2V5c0-1.1-.9-2-2-2zM9 17H7v-7h2v7zm4 0h-2V7h2v10zm4 0h-2v-4h2v4z\"/>\n",
              "    </g>\n",
              "</svg>\n",
              "      </button>\n",
              "\n",
              "<style>\n",
              "  .colab-df-quickchart {\n",
              "      --bg-color: #E8F0FE;\n",
              "      --fill-color: #1967D2;\n",
              "      --hover-bg-color: #E2EBFA;\n",
              "      --hover-fill-color: #174EA6;\n",
              "      --disabled-fill-color: #AAA;\n",
              "      --disabled-bg-color: #DDD;\n",
              "  }\n",
              "\n",
              "  [theme=dark] .colab-df-quickchart {\n",
              "      --bg-color: #3B4455;\n",
              "      --fill-color: #D2E3FC;\n",
              "      --hover-bg-color: #434B5C;\n",
              "      --hover-fill-color: #FFFFFF;\n",
              "      --disabled-bg-color: #3B4455;\n",
              "      --disabled-fill-color: #666;\n",
              "  }\n",
              "\n",
              "  .colab-df-quickchart {\n",
              "    background-color: var(--bg-color);\n",
              "    border: none;\n",
              "    border-radius: 50%;\n",
              "    cursor: pointer;\n",
              "    display: none;\n",
              "    fill: var(--fill-color);\n",
              "    height: 32px;\n",
              "    padding: 0;\n",
              "    width: 32px;\n",
              "  }\n",
              "\n",
              "  .colab-df-quickchart:hover {\n",
              "    background-color: var(--hover-bg-color);\n",
              "    box-shadow: 0 1px 2px rgba(60, 64, 67, 0.3), 0 1px 3px 1px rgba(60, 64, 67, 0.15);\n",
              "    fill: var(--button-hover-fill-color);\n",
              "  }\n",
              "\n",
              "  .colab-df-quickchart-complete:disabled,\n",
              "  .colab-df-quickchart-complete:disabled:hover {\n",
              "    background-color: var(--disabled-bg-color);\n",
              "    fill: var(--disabled-fill-color);\n",
              "    box-shadow: none;\n",
              "  }\n",
              "\n",
              "  .colab-df-spinner {\n",
              "    border: 2px solid var(--fill-color);\n",
              "    border-color: transparent;\n",
              "    border-bottom-color: var(--fill-color);\n",
              "    animation:\n",
              "      spin 1s steps(1) infinite;\n",
              "  }\n",
              "\n",
              "  @keyframes spin {\n",
              "    0% {\n",
              "      border-color: transparent;\n",
              "      border-bottom-color: var(--fill-color);\n",
              "      border-left-color: var(--fill-color);\n",
              "    }\n",
              "    20% {\n",
              "      border-color: transparent;\n",
              "      border-left-color: var(--fill-color);\n",
              "      border-top-color: var(--fill-color);\n",
              "    }\n",
              "    30% {\n",
              "      border-color: transparent;\n",
              "      border-left-color: var(--fill-color);\n",
              "      border-top-color: var(--fill-color);\n",
              "      border-right-color: var(--fill-color);\n",
              "    }\n",
              "    40% {\n",
              "      border-color: transparent;\n",
              "      border-right-color: var(--fill-color);\n",
              "      border-top-color: var(--fill-color);\n",
              "    }\n",
              "    60% {\n",
              "      border-color: transparent;\n",
              "      border-right-color: var(--fill-color);\n",
              "    }\n",
              "    80% {\n",
              "      border-color: transparent;\n",
              "      border-right-color: var(--fill-color);\n",
              "      border-bottom-color: var(--fill-color);\n",
              "    }\n",
              "    90% {\n",
              "      border-color: transparent;\n",
              "      border-bottom-color: var(--fill-color);\n",
              "    }\n",
              "  }\n",
              "</style>\n",
              "\n",
              "      <script>\n",
              "        async function quickchart(key) {\n",
              "          const quickchartButtonEl =\n",
              "            document.querySelector('#' + key + ' button');\n",
              "          quickchartButtonEl.disabled = true;  // To prevent multiple clicks.\n",
              "          quickchartButtonEl.classList.add('colab-df-spinner');\n",
              "          try {\n",
              "            const charts = await google.colab.kernel.invokeFunction(\n",
              "                'suggestCharts', [key], {});\n",
              "          } catch (error) {\n",
              "            console.error('Error during call to suggestCharts:', error);\n",
              "          }\n",
              "          quickchartButtonEl.classList.remove('colab-df-spinner');\n",
              "          quickchartButtonEl.classList.add('colab-df-quickchart-complete');\n",
              "        }\n",
              "        (() => {\n",
              "          let quickchartButtonEl =\n",
              "            document.querySelector('#df-aee1ef89-5f6c-4180-bba7-fe36290c8461 button');\n",
              "          quickchartButtonEl.style.display =\n",
              "            google.colab.kernel.accessAllowed ? 'block' : 'none';\n",
              "        })();\n",
              "      </script>\n",
              "    </div>\n",
              "\n",
              "    </div>\n",
              "  </div>\n"
            ],
            "application/vnd.google.colaboratory.intrinsic+json": {
              "type": "dataframe",
              "variable_name": "df",
              "summary": "{\n  \"name\": \"df\",\n  \"rows\": 1200,\n  \"fields\": [\n    {\n      \"column\": \"order_id\",\n      \"properties\": {\n        \"dtype\": \"string\",\n        \"num_unique_values\": 1200,\n        \"samples\": [\n          \"ORD101178\",\n          \"ORD100865\",\n          \"ORD100101\"\n        ],\n        \"semantic_type\": \"\",\n        \"description\": \"\"\n      }\n    },\n    {\n      \"column\": \"order_date\",\n      \"properties\": {\n        \"dtype\": \"object\",\n        \"num_unique_values\": 795,\n        \"samples\": [\n          \"11-01-2023\",\n          \"07-09-2025\",\n          \"03-02-2025\"\n        ],\n        \"semantic_type\": \"\",\n        \"description\": \"\"\n      }\n    },\n    {\n      \"column\": \"customer_id\",\n      \"properties\": {\n        \"dtype\": \"string\",\n        \"num_unique_values\": 604,\n        \"samples\": [\n          \"CUST1405\",\n          \"CUST1185\",\n          \"CUST1440\"\n        ],\n        \"semantic_type\": \"\",\n        \"description\": \"\"\n      }\n    },\n    {\n      \"column\": \"product_id\",\n      \"properties\": {\n        \"dtype\": \"category\",\n        \"num_unique_values\": 200,\n        \"samples\": [\n          \"PROD247\",\n          \"PROD324\",\n          \"PROD231\"\n        ],\n        \"semantic_type\": \"\",\n        \"description\": \"\"\n      }\n    },\n    {\n      \"column\": \"product_category\",\n      \"properties\": {\n        \"dtype\": \"category\",\n        \"num_unique_values\": 7,\n        \"samples\": [\n          \"Beauty\",\n          \"Toys\",\n          \"Grocery\"\n        ],\n        \"semantic_type\": \"\",\n        \"description\": \"\"\n      }\n    },\n    {\n      \"column\": \"region\",\n      \"properties\": {\n        \"dtype\": \"category\",\n        \"num_unique_values\": 5,\n        \"samples\": [\n          \"North\",\n          \"East\",\n          \"South\"\n        ],\n        \"semantic_type\": \"\",\n        \"description\": \"\"\n      }\n    },\n    {\n      \"column\": \"channel\",\n      \"properties\": {\n        \"dtype\": \"category\",\n        \"num_unique_values\": 4,\n        \"samples\": [\n          \"Partner\",\n          \"Online\",\n          \"Wholesale\"\n        ],\n        \"semantic_type\": \"\",\n        \"description\": \"\"\n      }\n    },\n    {\n      \"column\": \"salesperson\",\n      \"properties\": {\n        \"dtype\": \"category\",\n        \"num_unique_values\": 30,\n        \"samples\": [\n          \"SP_5\",\n          \"SP_25\",\n          \"SP_1\"\n        ],\n        \"semantic_type\": \"\",\n        \"description\": \"\"\n      }\n    },\n    {\n      \"column\": \"quantity\",\n      \"properties\": {\n        \"dtype\": \"number\",\n        \"std\": 1,\n        \"min\": 1,\n        \"max\": 9,\n        \"num_unique_values\": 9,\n        \"samples\": [\n          6,\n          3,\n          7\n        ],\n        \"semantic_type\": \"\",\n        \"description\": \"\"\n      }\n    },\n    {\n      \"column\": \"unit_price\",\n      \"properties\": {\n        \"dtype\": \"number\",\n        \"std\": 574.6416108099702,\n        \"min\": 5.02,\n        \"max\": 1997.79,\n        \"num_unique_values\": 1193,\n        \"samples\": [\n          117.89,\n          871.63,\n          1035.81\n        ],\n        \"semantic_type\": \"\",\n        \"description\": \"\"\n      }\n    },\n    {\n      \"column\": \"discount\",\n      \"properties\": {\n        \"dtype\": \"number\",\n        \"std\": 0.060828767904061096,\n        \"min\": 0.0,\n        \"max\": 0.2,\n        \"num_unique_values\": 5,\n        \"samples\": [\n          0.15,\n          0.2,\n          0.05\n        ],\n        \"semantic_type\": \"\",\n        \"description\": \"\"\n      }\n    },\n    {\n      \"column\": \"unit_cost\",\n      \"properties\": {\n        \"dtype\": \"number\",\n        \"std\": 415.8141398212755,\n        \"min\": 4.05,\n        \"max\": 1746.52,\n        \"num_unique_values\": 1194,\n        \"samples\": [\n          569.1,\n          771.87,\n          13.0\n        ],\n        \"semantic_type\": \"\",\n        \"description\": \"\"\n      }\n    },\n    {\n      \"column\": \"sales_amount\",\n      \"properties\": {\n        \"dtype\": \"number\",\n        \"std\": 2359.3060650399343,\n        \"min\": 7.7,\n        \"max\": 13914.11,\n        \"num_unique_values\": 1199,\n        \"samples\": [\n          2557.55,\n          9651.66,\n          3004.42\n        ],\n        \"semantic_type\": \"\",\n        \"description\": \"\"\n      }\n    },\n    {\n      \"column\": \"total_cost\",\n      \"properties\": {\n        \"dtype\": \"number\",\n        \"std\": 1794.3883212875378,\n        \"min\": 4.21,\n        \"max\": 13516.64,\n        \"num_unique_values\": 1199,\n        \"samples\": [\n          2475.48,\n          8495.46,\n          2081.84\n        ],\n        \"semantic_type\": \"\",\n        \"description\": \"\"\n      }\n    },\n    {\n      \"column\": \"profit\",\n      \"properties\": {\n        \"dtype\": \"number\",\n        \"std\": 850.7791838160741,\n        \"min\": -372.99,\n        \"max\": 6361.81,\n        \"num_unique_values\": 1197,\n        \"samples\": [\n          1794.93,\n          1161.4,\n          922.58\n        ],\n        \"semantic_type\": \"\",\n        \"description\": \"\"\n      }\n    },\n    {\n      \"column\": \"tax\",\n      \"properties\": {\n        \"dtype\": \"number\",\n        \"std\": 314.58206638678007,\n        \"min\": 0.0,\n        \"max\": 1834.13,\n        \"num_unique_values\": 1073,\n        \"samples\": [\n          47.11,\n          46.25,\n          2.87\n        ],\n        \"semantic_type\": \"\",\n        \"description\": \"\"\n      }\n    },\n    {\n      \"column\": \"payment_type\",\n      \"properties\": {\n        \"dtype\": \"category\",\n        \"num_unique_values\": 6,\n        \"samples\": [\n          \"Wallet\",\n          \"Debit Card\",\n          \"Cash\"\n        ],\n        \"semantic_type\": \"\",\n        \"description\": \"\"\n      }\n    },\n    {\n      \"column\": \"is_returned\",\n      \"properties\": {\n        \"dtype\": \"number\",\n        \"std\": 0,\n        \"min\": 0,\n        \"max\": 1,\n        \"num_unique_values\": 2,\n        \"samples\": [\n          1,\n          0\n        ],\n        \"semantic_type\": \"\",\n        \"description\": \"\"\n      }\n    },\n    {\n      \"column\": \"gross_revenue\",\n      \"properties\": {\n        \"dtype\": \"number\",\n        \"std\": 2599.44673627488,\n        \"min\": 8.62,\n        \"max\": 15064.17,\n        \"num_unique_values\": 1200,\n        \"samples\": [\n          2864.46,\n          10809.86\n        ],\n        \"semantic_type\": \"\",\n        \"description\": \"\"\n      }\n    },\n    {\n      \"column\": \"margin_pct\",\n      \"properties\": {\n        \"dtype\": \"number\",\n        \"std\": 0.1398938054535453,\n        \"min\": -0.1115,\n        \"max\": 0.55,\n        \"num_unique_values\": 1074,\n        \"samples\": [\n          0.0844,\n          0.45\n        ],\n        \"semantic_type\": \"\",\n        \"description\": \"\"\n      }\n    }\n  ]\n}"
            }
          },
          "metadata": {},
          "execution_count": 5
        }
      ]
    },
    {
      "cell_type": "code",
      "source": [
        "df.shape"
      ],
      "metadata": {
        "colab": {
          "base_uri": "https://localhost:8080/"
        },
        "id": "vLXYwAqpeJeK",
        "outputId": "9bbabebd-6ff6-400e-ba9e-e3e239d31642"
      },
      "execution_count": 6,
      "outputs": [
        {
          "output_type": "execute_result",
          "data": {
            "text/plain": [
              "(1200, 20)"
            ]
          },
          "metadata": {},
          "execution_count": 6
        }
      ]
    },
    {
      "cell_type": "markdown",
      "source": [
        "Drop the duplicate"
      ],
      "metadata": {
        "id": "Nh6Zcse1eivW"
      }
    },
    {
      "cell_type": "code",
      "source": [
        "df = df.drop_duplicates()"
      ],
      "metadata": {
        "id": "-bZKXRBzeLLu"
      },
      "execution_count": 7,
      "outputs": []
    },
    {
      "cell_type": "code",
      "source": [
        "print(\"Missing values:\\n\", df.isnull().sum())"
      ],
      "metadata": {
        "colab": {
          "base_uri": "https://localhost:8080/"
        },
        "id": "9dqZ7-5geNbi",
        "outputId": "4e4a4405-d18b-47cf-ef65-a3b5a8d6fba6"
      },
      "execution_count": 8,
      "outputs": [
        {
          "output_type": "stream",
          "name": "stdout",
          "text": [
            "Missing values:\n",
            " order_id            0\n",
            "order_date          0\n",
            "customer_id         0\n",
            "product_id          0\n",
            "product_category    0\n",
            "region              0\n",
            "channel             0\n",
            "salesperson         0\n",
            "quantity            0\n",
            "unit_price          0\n",
            "discount            0\n",
            "unit_cost           0\n",
            "sales_amount        0\n",
            "total_cost          0\n",
            "profit              0\n",
            "tax                 0\n",
            "payment_type        0\n",
            "is_returned         0\n",
            "gross_revenue       0\n",
            "margin_pct          0\n",
            "dtype: int64\n"
          ]
        }
      ]
    },
    {
      "cell_type": "code",
      "source": [
        "for col in df.columns:\n",
        "    if df[col].dtype in ['int64', 'float64']:\n",
        "        df[col] = df[col].fillna(df[col].mean())\n",
        "    else:\n",
        "        df[col] = df[col].fillna(df[col].mode()[0])"
      ],
      "metadata": {
        "id": "ZfXSiMH2ePZm"
      },
      "execution_count": 9,
      "outputs": []
    },
    {
      "cell_type": "markdown",
      "source": [
        "Label Encoding"
      ],
      "metadata": {
        "id": "HtpeQz05en-V"
      }
    },
    {
      "cell_type": "code",
      "source": [
        "label_encoders = {}\n",
        "for col in df.select_dtypes(include=['object']).columns:\n",
        "    le = LabelEncoder()\n",
        "    df[col] = le.fit_transform(df[col])\n",
        "    label_encoders[col] = le"
      ],
      "metadata": {
        "id": "YX0mxJWxeRzb"
      },
      "execution_count": 10,
      "outputs": []
    },
    {
      "cell_type": "markdown",
      "source": [
        "Standardize the scaler"
      ],
      "metadata": {
        "id": "G8yFIRqgeqmL"
      }
    },
    {
      "cell_type": "code",
      "source": [
        "scaler = StandardScaler()\n",
        "num_cols = df.select_dtypes(include=['int64', 'float64']).columns\n",
        "df[num_cols] = scaler.fit_transform(df[num_cols])"
      ],
      "metadata": {
        "id": "EBOpZJ7TeVGe"
      },
      "execution_count": 11,
      "outputs": []
    },
    {
      "cell_type": "markdown",
      "source": [
        "Final file\n"
      ],
      "metadata": {
        "id": "6UWYD8pReyz5"
      }
    },
    {
      "cell_type": "code",
      "source": [
        "output_file = \"sales_financial_cleaned.csv\"\n",
        "df.to_csv(output_file, index=False)"
      ],
      "metadata": {
        "id": "UAr3VPDieXZ8"
      },
      "execution_count": 12,
      "outputs": []
    },
    {
      "cell_type": "code",
      "source": [],
      "metadata": {
        "id": "3LTJU_LyeaUX"
      },
      "execution_count": null,
      "outputs": []
    }
  ]
}